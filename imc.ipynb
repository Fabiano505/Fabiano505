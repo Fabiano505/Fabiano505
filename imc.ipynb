{
  "nbformat": 4,
  "nbformat_minor": 0,
  "metadata": {
    "colab": {
      "provenance": [],
      "authorship_tag": "ABX9TyP98y3eTzaog5v0g6HFsmna",
      "include_colab_link": true
    },
    "kernelspec": {
      "name": "python3",
      "display_name": "Python 3"
    },
    "language_info": {
      "name": "python"
    }
  },
  "cells": [
    {
      "cell_type": "markdown",
      "metadata": {
        "id": "view-in-github",
        "colab_type": "text"
      },
      "source": [
        "<a href=\"https://colab.research.google.com/github/Fabiano505/Fabiano505/blob/main/imc.ipynb\" target=\"_parent\"><img src=\"https://colab.research.google.com/assets/colab-badge.svg\" alt=\"Open In Colab\"/></a>"
      ]
    },
    {
      "cell_type": "code",
      "execution_count": null,
      "metadata": {
        "colab": {
          "base_uri": "https://localhost:8080/"
        },
        "id": "s4MQl6mLbes1",
        "outputId": "c96cbde4-b0a1-4617-d465-1cb630081d17"
      },
      "outputs": [
        {
          "output_type": "stream",
          "name": "stdout",
          "text": [
            "Digite o peso (em kg): 30\n",
            "Digite a altura (em metros): 2\n",
            "Condição: abaixo do peso\n"
          ]
        }
      ],
      "source": [
        "# Entrada de dados\n",
        "P = float(input(\"Digite o peso (em kg): \"))\n",
        "H = float(input(\"Digite a altura (em metros): \"))\n",
        "\n",
        "# Cálculo do IMC\n",
        "IMC = P / (H ** 2)\n",
        "\n",
        "# Verificação da condição do IMC\n",
        "if IMC < 18.5:\n",
        "    print(\"Condição: abaixo do peso\")\n",
        "elif 18.5 <= IMC < 25:\n",
        "    print(\"Condição: peso normal\")\n",
        "elif 25 <= IMC < 30:\n",
        "    print(\"Condição: acima do peso\")\n",
        "else:\n",
        "    print(\"Condição: obeso\")\n"
      ]
    }
  ]
}